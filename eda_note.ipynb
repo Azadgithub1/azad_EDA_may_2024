{
 "cells": [
  {
   "cell_type": "markdown",
   "id": "ded1df20-1914-4893-96bb-fb77148f9947",
   "metadata": {},
   "source": [
    "- Step-1\n",
    "- Create a Dataframe\n",
    "\n",
    "- we will create a dataframe using list\n",
    "- we will create a dataframe using dictionary"
   ]
  },
  {
   "cell_type": "markdown",
   "id": "d02a6e42-eed2-4481-83bd-37b5d64a8583",
   "metadata": {},
   "source": [
    "- Step-2\n",
    "- Provide the data"
   ]
  },
  {
   "cell_type": "markdown",
   "id": "746ac5e3-8192-4f56-87d2-9de30e8b28b1",
   "metadata": {},
   "source": [
    "- Step-3 Provide the column names\n",
    "- names=['tarun','surendar','mohith']\n",
    "- pd.DataFrame(names,\n",
    "- columns=['Names'])"
   ]
  },
  {
   "cell_type": "code",
   "execution_count": 1,
   "id": "f02cb231-6d44-46a3-851b-0ae575711873",
   "metadata": {},
   "outputs": [],
   "source": [
    "# Step-4\n",
    "# Providing index\n",
    "# names=['tarun','surendar','mohith']\n",
    "# age=[20,21,22]\n",
    "# city=['Hyd','ECIL','Blr']\n",
    "# data=zip(names,age,city)\n",
    "# ix=['A','B','C'] # 3 rows we need 3 index\n",
    "# cols=['Names','Age','City'] # 3 columns , 3 values\n",
    "# pd.DataFrame(data,\n",
    "# index=ix,\n",
    "# columns=cols)"
   ]
  },
  {
   "cell_type": "markdown",
   "id": "492ba5de-1d5a-4310-8214-a81456261457",
   "metadata": {},
   "source": [
    "- Step-5\n",
    "- Add a new column on existing data frame"
   ]
  },
  {
   "cell_type": "markdown",
   "id": "9dc75ecb-4ec1-4aee-8c23-2660b8a37c09",
   "metadata": {},
   "source": [
    "- If you want to add a new column\n",
    "- First check how many rows are there\n",
    "- For example in above dataframe we have 3 rows\n",
    "- your new column also should have 3 rows\n",
    "- suppose I want to create a new column: salary\n",
    "- make a list with 3 values\n",
    "- salary=[100000,200000,300000]\n",
    "- syntax: dataframe[column]=list of values\n",
    "- salary=[100000,200000,300000]\n",
    "- df['salary']=salary`"
   ]
  },
  {
   "cell_type": "markdown",
   "id": "cccc2973-f90c-45d2-adab-3ca4a4003b95",
   "metadata": {},
   "source": [
    "- use case-1\n",
    "- Create empty data frame first\n",
    "-Create 3 list using list comprehension\n",
    "- list1= a values from 1 to 10\n",
    "- list2= square of 1 to 10\n",
    "- list3= cube of 1 to 10\n",
    "- Finally make a dataframe"
   ]
  },
  {
   "cell_type": "code",
   "execution_count": null,
   "id": "ed98898f-d188-4758-9bc4-b05eef4961fc",
   "metadata": {},
   "outputs": [],
   "source": [
    "step-6\n",
    "\n",
    "Update the already existed column\n",
    "\n",
    "Create a new column\n",
    "createing a new list salary=[1000,2000,3000]\n",
    "df['S']\n",
    "Creating a new column the column name is our choice\n",
    "update existing coumn are same way only\n",
    "Here also we need a make a list of values = number of rows\n",
    "while updating the existing column\n",
    "we need to provide already existed column name only\n",
    "df['Z']= list of values"
   ]
  },
  {
   "cell_type": "code",
   "execution_count": null,
   "id": "04146f1b-cba4-44fb-a59c-e98f4185a9f5",
   "metadata": {},
   "outputs": [],
   "source": []
  },
  {
   "cell_type": "code",
   "execution_count": null,
   "id": "5b576b72-36e3-41fb-8488-da0b6e37284d",
   "metadata": {},
   "outputs": [],
   "source": []
  },
  {
   "cell_type": "code",
   "execution_count": null,
   "id": "baa7b588-62ae-46da-a8aa-7689a0544caf",
   "metadata": {},
   "outputs": [],
   "source": []
  },
  {
   "cell_type": "code",
   "execution_count": null,
   "id": "26ff138f-926a-4e61-aaac-891b72bb4232",
   "metadata": {},
   "outputs": [],
   "source": []
  }
 ],
 "metadata": {
  "kernelspec": {
   "display_name": "Python 3 (ipykernel)",
   "language": "python",
   "name": "python3"
  },
  "language_info": {
   "codemirror_mode": {
    "name": "ipython",
    "version": 3
   },
   "file_extension": ".py",
   "mimetype": "text/x-python",
   "name": "python",
   "nbconvert_exporter": "python",
   "pygments_lexer": "ipython3",
   "version": "3.11.7"
  }
 },
 "nbformat": 4,
 "nbformat_minor": 5
}
