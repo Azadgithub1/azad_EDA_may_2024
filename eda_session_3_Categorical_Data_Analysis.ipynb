{
 "cells": [
  {
   "cell_type": "code",
   "execution_count": 1,
   "id": "b34708a2-3170-4d27-a251-24495066af76",
   "metadata": {},
   "outputs": [],
   "source": [
    "# read the packages\n",
    "# Read the data\n",
    "# cat and numerical"
   ]
  },
  {
   "cell_type": "code",
   "execution_count": 2,
   "id": "275c5cb4-62d5-4afd-80aa-da50786eabc6",
   "metadata": {},
   "outputs": [],
   "source": [
    "import pandas as pd\n",
    "import numpy as np\n",
    "import matplotlib.pyplot as plt\n",
    "import seaborn as sns"
   ]
  },
  {
   "cell_type": "markdown",
   "id": "45226279-c32b-4776-8077-461eeb204641",
   "metadata": {},
   "source": [
    "**Read the data**"
   ]
  },
  {
   "cell_type": "code",
   "execution_count": 3,
   "id": "a929ce13-5036-41f5-b7b0-246aeae4b8bb",
   "metadata": {},
   "outputs": [
    {
     "data": {
      "text/html": [
       "<div>\n",
       "<style scoped>\n",
       "    .dataframe tbody tr th:only-of-type {\n",
       "        vertical-align: middle;\n",
       "    }\n",
       "\n",
       "    .dataframe tbody tr th {\n",
       "        vertical-align: top;\n",
       "    }\n",
       "\n",
       "    .dataframe thead th {\n",
       "        text-align: right;\n",
       "    }\n",
       "</style>\n",
       "<table border=\"1\" class=\"dataframe\">\n",
       "  <thead>\n",
       "    <tr style=\"text-align: right;\">\n",
       "      <th></th>\n",
       "      <th>case_id</th>\n",
       "      <th>continent</th>\n",
       "      <th>education_of_employee</th>\n",
       "      <th>has_job_experience</th>\n",
       "      <th>requires_job_training</th>\n",
       "      <th>no_of_employees</th>\n",
       "      <th>yr_of_estab</th>\n",
       "      <th>region_of_employment</th>\n",
       "      <th>prevailing_wage</th>\n",
       "      <th>unit_of_wage</th>\n",
       "      <th>full_time_position</th>\n",
       "      <th>case_status</th>\n",
       "    </tr>\n",
       "  </thead>\n",
       "  <tbody>\n",
       "    <tr>\n",
       "      <th>0</th>\n",
       "      <td>EZYV01</td>\n",
       "      <td>Asia</td>\n",
       "      <td>High School</td>\n",
       "      <td>N</td>\n",
       "      <td>N</td>\n",
       "      <td>14513</td>\n",
       "      <td>2007</td>\n",
       "      <td>West</td>\n",
       "      <td>592.2029</td>\n",
       "      <td>Hour</td>\n",
       "      <td>Y</td>\n",
       "      <td>Denied</td>\n",
       "    </tr>\n",
       "    <tr>\n",
       "      <th>1</th>\n",
       "      <td>EZYV02</td>\n",
       "      <td>Asia</td>\n",
       "      <td>Master's</td>\n",
       "      <td>Y</td>\n",
       "      <td>N</td>\n",
       "      <td>2412</td>\n",
       "      <td>2002</td>\n",
       "      <td>Northeast</td>\n",
       "      <td>83425.6500</td>\n",
       "      <td>Year</td>\n",
       "      <td>Y</td>\n",
       "      <td>Certified</td>\n",
       "    </tr>\n",
       "    <tr>\n",
       "      <th>2</th>\n",
       "      <td>EZYV03</td>\n",
       "      <td>Asia</td>\n",
       "      <td>Bachelor's</td>\n",
       "      <td>N</td>\n",
       "      <td>Y</td>\n",
       "      <td>44444</td>\n",
       "      <td>2008</td>\n",
       "      <td>West</td>\n",
       "      <td>122996.8600</td>\n",
       "      <td>Year</td>\n",
       "      <td>Y</td>\n",
       "      <td>Denied</td>\n",
       "    </tr>\n",
       "    <tr>\n",
       "      <th>3</th>\n",
       "      <td>EZYV04</td>\n",
       "      <td>Asia</td>\n",
       "      <td>Bachelor's</td>\n",
       "      <td>N</td>\n",
       "      <td>N</td>\n",
       "      <td>98</td>\n",
       "      <td>1897</td>\n",
       "      <td>West</td>\n",
       "      <td>83434.0300</td>\n",
       "      <td>Year</td>\n",
       "      <td>Y</td>\n",
       "      <td>Denied</td>\n",
       "    </tr>\n",
       "    <tr>\n",
       "      <th>4</th>\n",
       "      <td>EZYV05</td>\n",
       "      <td>Africa</td>\n",
       "      <td>Master's</td>\n",
       "      <td>Y</td>\n",
       "      <td>N</td>\n",
       "      <td>1082</td>\n",
       "      <td>2005</td>\n",
       "      <td>South</td>\n",
       "      <td>149907.3900</td>\n",
       "      <td>Year</td>\n",
       "      <td>Y</td>\n",
       "      <td>Certified</td>\n",
       "    </tr>\n",
       "  </tbody>\n",
       "</table>\n",
       "</div>"
      ],
      "text/plain": [
       "  case_id continent education_of_employee has_job_experience  \\\n",
       "0  EZYV01      Asia           High School                  N   \n",
       "1  EZYV02      Asia              Master's                  Y   \n",
       "2  EZYV03      Asia            Bachelor's                  N   \n",
       "3  EZYV04      Asia            Bachelor's                  N   \n",
       "4  EZYV05    Africa              Master's                  Y   \n",
       "\n",
       "  requires_job_training  no_of_employees  yr_of_estab region_of_employment  \\\n",
       "0                     N            14513         2007                 West   \n",
       "1                     N             2412         2002            Northeast   \n",
       "2                     Y            44444         2008                 West   \n",
       "3                     N               98         1897                 West   \n",
       "4                     N             1082         2005                South   \n",
       "\n",
       "   prevailing_wage unit_of_wage full_time_position case_status  \n",
       "0         592.2029         Hour                  Y      Denied  \n",
       "1       83425.6500         Year                  Y   Certified  \n",
       "2      122996.8600         Year                  Y      Denied  \n",
       "3       83434.0300         Year                  Y      Denied  \n",
       "4      149907.3900         Year                  Y   Certified  "
      ]
     },
     "execution_count": 3,
     "metadata": {},
     "output_type": "execute_result"
    }
   ],
   "source": [
    "visa_df=pd.read_csv(\"Visadataset.csv\")\n",
    "visa_df.head()"
   ]
  },
  {
   "cell_type": "markdown",
   "id": "acfa604d-3793-4b7a-b860-c076f1c08a73",
   "metadata": {},
   "source": [
    "**Divide into categorical and numerical columns**"
   ]
  },
  {
   "cell_type": "code",
   "execution_count": 4,
   "id": "0fe993fa-a4d6-4417-9c22-a0440f66810c",
   "metadata": {},
   "outputs": [],
   "source": [
    "types=dict(visa_df.dtypes)\n",
    "cat_columns=[key for key,value in types.items() if value=='object']\n",
    "num_columns=[key for key ,value in types.items() if value!='object']"
   ]
  },
  {
   "cell_type": "code",
   "execution_count": 5,
   "id": "497722b1-279e-4bb7-a7aa-21df0e2d92b8",
   "metadata": {},
   "outputs": [
    {
     "data": {
      "text/plain": [
       "Index(['case_id', 'continent', 'education_of_employee', 'has_job_experience',\n",
       "       'requires_job_training', 'region_of_employment', 'unit_of_wage',\n",
       "       'full_time_position', 'case_status'],\n",
       "      dtype='object')"
      ]
     },
     "execution_count": 5,
     "metadata": {},
     "output_type": "execute_result"
    }
   ],
   "source": [
    "cat_columns=visa_df.select_dtypes(include='object').columns\n",
    "num_columns=visa_df.select_dtypes(exclude='object').columns\n",
    "cat_columns"
   ]
  },
  {
   "cell_type": "markdown",
   "id": "c8b3ff74-bc3a-4320-810e-4fd9a85664a2",
   "metadata": {},
   "source": [
    "**how to select a specific columns**"
   ]
  },
  {
   "cell_type": "code",
   "execution_count": 6,
   "id": "8c23fe4a-3c47-4d41-8689-32165fd29137",
   "metadata": {},
   "outputs": [
    {
     "data": {
      "text/plain": [
       "0          Asia\n",
       "1          Asia\n",
       "2          Asia\n",
       "3          Asia\n",
       "4        Africa\n",
       "          ...  \n",
       "25475      Asia\n",
       "25476      Asia\n",
       "25477      Asia\n",
       "25478      Asia\n",
       "25479      Asia\n",
       "Name: continent, Length: 25480, dtype: object"
      ]
     },
     "execution_count": 6,
     "metadata": {},
     "output_type": "execute_result"
    }
   ],
   "source": [
    "visa_df['continent'] # series type"
   ]
  },
  {
   "cell_type": "code",
   "execution_count": 7,
   "id": "9c9f0480-61e0-4c7c-97d2-6dbe4df63ebe",
   "metadata": {},
   "outputs": [
    {
     "data": {
      "text/html": [
       "<div>\n",
       "<style scoped>\n",
       "    .dataframe tbody tr th:only-of-type {\n",
       "        vertical-align: middle;\n",
       "    }\n",
       "\n",
       "    .dataframe tbody tr th {\n",
       "        vertical-align: top;\n",
       "    }\n",
       "\n",
       "    .dataframe thead th {\n",
       "        text-align: right;\n",
       "    }\n",
       "</style>\n",
       "<table border=\"1\" class=\"dataframe\">\n",
       "  <thead>\n",
       "    <tr style=\"text-align: right;\">\n",
       "      <th></th>\n",
       "      <th>continent</th>\n",
       "    </tr>\n",
       "  </thead>\n",
       "  <tbody>\n",
       "    <tr>\n",
       "      <th>0</th>\n",
       "      <td>Asia</td>\n",
       "    </tr>\n",
       "    <tr>\n",
       "      <th>1</th>\n",
       "      <td>Asia</td>\n",
       "    </tr>\n",
       "    <tr>\n",
       "      <th>2</th>\n",
       "      <td>Asia</td>\n",
       "    </tr>\n",
       "    <tr>\n",
       "      <th>3</th>\n",
       "      <td>Asia</td>\n",
       "    </tr>\n",
       "    <tr>\n",
       "      <th>4</th>\n",
       "      <td>Africa</td>\n",
       "    </tr>\n",
       "    <tr>\n",
       "      <th>...</th>\n",
       "      <td>...</td>\n",
       "    </tr>\n",
       "    <tr>\n",
       "      <th>25475</th>\n",
       "      <td>Asia</td>\n",
       "    </tr>\n",
       "    <tr>\n",
       "      <th>25476</th>\n",
       "      <td>Asia</td>\n",
       "    </tr>\n",
       "    <tr>\n",
       "      <th>25477</th>\n",
       "      <td>Asia</td>\n",
       "    </tr>\n",
       "    <tr>\n",
       "      <th>25478</th>\n",
       "      <td>Asia</td>\n",
       "    </tr>\n",
       "    <tr>\n",
       "      <th>25479</th>\n",
       "      <td>Asia</td>\n",
       "    </tr>\n",
       "  </tbody>\n",
       "</table>\n",
       "<p>25480 rows × 1 columns</p>\n",
       "</div>"
      ],
      "text/plain": [
       "      continent\n",
       "0          Asia\n",
       "1          Asia\n",
       "2          Asia\n",
       "3          Asia\n",
       "4        Africa\n",
       "...         ...\n",
       "25475      Asia\n",
       "25476      Asia\n",
       "25477      Asia\n",
       "25478      Asia\n",
       "25479      Asia\n",
       "\n",
       "[25480 rows x 1 columns]"
      ]
     },
     "execution_count": 7,
     "metadata": {},
     "output_type": "execute_result"
    }
   ],
   "source": [
    "visa_df.loc[:,['continent']]"
   ]
  },
  {
   "cell_type": "code",
   "execution_count": 8,
   "id": "64f2d566-d38d-470f-86f4-397c00de9ccb",
   "metadata": {},
   "outputs": [
    {
     "data": {
      "text/html": [
       "<div>\n",
       "<style scoped>\n",
       "    .dataframe tbody tr th:only-of-type {\n",
       "        vertical-align: middle;\n",
       "    }\n",
       "\n",
       "    .dataframe tbody tr th {\n",
       "        vertical-align: top;\n",
       "    }\n",
       "\n",
       "    .dataframe thead th {\n",
       "        text-align: right;\n",
       "    }\n",
       "</style>\n",
       "<table border=\"1\" class=\"dataframe\">\n",
       "  <thead>\n",
       "    <tr style=\"text-align: right;\">\n",
       "      <th></th>\n",
       "      <th>continent</th>\n",
       "    </tr>\n",
       "  </thead>\n",
       "  <tbody>\n",
       "    <tr>\n",
       "      <th>0</th>\n",
       "      <td>Asia</td>\n",
       "    </tr>\n",
       "    <tr>\n",
       "      <th>1</th>\n",
       "      <td>Asia</td>\n",
       "    </tr>\n",
       "    <tr>\n",
       "      <th>2</th>\n",
       "      <td>Asia</td>\n",
       "    </tr>\n",
       "    <tr>\n",
       "      <th>3</th>\n",
       "      <td>Asia</td>\n",
       "    </tr>\n",
       "    <tr>\n",
       "      <th>4</th>\n",
       "      <td>Africa</td>\n",
       "    </tr>\n",
       "    <tr>\n",
       "      <th>...</th>\n",
       "      <td>...</td>\n",
       "    </tr>\n",
       "    <tr>\n",
       "      <th>25475</th>\n",
       "      <td>Asia</td>\n",
       "    </tr>\n",
       "    <tr>\n",
       "      <th>25476</th>\n",
       "      <td>Asia</td>\n",
       "    </tr>\n",
       "    <tr>\n",
       "      <th>25477</th>\n",
       "      <td>Asia</td>\n",
       "    </tr>\n",
       "    <tr>\n",
       "      <th>25478</th>\n",
       "      <td>Asia</td>\n",
       "    </tr>\n",
       "    <tr>\n",
       "      <th>25479</th>\n",
       "      <td>Asia</td>\n",
       "    </tr>\n",
       "  </tbody>\n",
       "</table>\n",
       "<p>25480 rows × 1 columns</p>\n",
       "</div>"
      ],
      "text/plain": [
       "      continent\n",
       "0          Asia\n",
       "1          Asia\n",
       "2          Asia\n",
       "3          Asia\n",
       "4        Africa\n",
       "...         ...\n",
       "25475      Asia\n",
       "25476      Asia\n",
       "25477      Asia\n",
       "25478      Asia\n",
       "25479      Asia\n",
       "\n",
       "[25480 rows x 1 columns]"
      ]
     },
     "execution_count": 8,
     "metadata": {},
     "output_type": "execute_result"
    }
   ],
   "source": [
    "visa_df[['continent']]"
   ]
  },
  {
   "cell_type": "code",
   "execution_count": 9,
   "id": "87469c77-dc2e-403b-b6db-945b75f7d088",
   "metadata": {},
   "outputs": [
    {
     "data": {
      "text/html": [
       "<div>\n",
       "<style scoped>\n",
       "    .dataframe tbody tr th:only-of-type {\n",
       "        vertical-align: middle;\n",
       "    }\n",
       "\n",
       "    .dataframe tbody tr th {\n",
       "        vertical-align: top;\n",
       "    }\n",
       "\n",
       "    .dataframe thead th {\n",
       "        text-align: right;\n",
       "    }\n",
       "</style>\n",
       "<table border=\"1\" class=\"dataframe\">\n",
       "  <thead>\n",
       "    <tr style=\"text-align: right;\">\n",
       "      <th></th>\n",
       "      <th>continent</th>\n",
       "    </tr>\n",
       "  </thead>\n",
       "  <tbody>\n",
       "    <tr>\n",
       "      <th>0</th>\n",
       "      <td>Asia</td>\n",
       "    </tr>\n",
       "    <tr>\n",
       "      <th>1</th>\n",
       "      <td>Asia</td>\n",
       "    </tr>\n",
       "    <tr>\n",
       "      <th>2</th>\n",
       "      <td>Asia</td>\n",
       "    </tr>\n",
       "    <tr>\n",
       "      <th>3</th>\n",
       "      <td>Asia</td>\n",
       "    </tr>\n",
       "    <tr>\n",
       "      <th>4</th>\n",
       "      <td>Africa</td>\n",
       "    </tr>\n",
       "    <tr>\n",
       "      <th>...</th>\n",
       "      <td>...</td>\n",
       "    </tr>\n",
       "    <tr>\n",
       "      <th>25475</th>\n",
       "      <td>Asia</td>\n",
       "    </tr>\n",
       "    <tr>\n",
       "      <th>25476</th>\n",
       "      <td>Asia</td>\n",
       "    </tr>\n",
       "    <tr>\n",
       "      <th>25477</th>\n",
       "      <td>Asia</td>\n",
       "    </tr>\n",
       "    <tr>\n",
       "      <th>25478</th>\n",
       "      <td>Asia</td>\n",
       "    </tr>\n",
       "    <tr>\n",
       "      <th>25479</th>\n",
       "      <td>Asia</td>\n",
       "    </tr>\n",
       "  </tbody>\n",
       "</table>\n",
       "<p>25480 rows × 1 columns</p>\n",
       "</div>"
      ],
      "text/plain": [
       "      continent\n",
       "0          Asia\n",
       "1          Asia\n",
       "2          Asia\n",
       "3          Asia\n",
       "4        Africa\n",
       "...         ...\n",
       "25475      Asia\n",
       "25476      Asia\n",
       "25477      Asia\n",
       "25478      Asia\n",
       "25479      Asia\n",
       "\n",
       "[25480 rows x 1 columns]"
      ]
     },
     "execution_count": 9,
     "metadata": {},
     "output_type": "execute_result"
    }
   ],
   "source": [
    "visa_df['continent'] # series type\n",
    "visa_df[['continent']] # dataframe\n",
    "visa_df.continent # series\n",
    "visa_df.loc[:,['continent']]"
   ]
  },
  {
   "cell_type": "markdown",
   "id": "c34ee0b3-5e83-447b-9972-11cfaf2cb02d",
   "metadata": {},
   "source": [
    "**read the multiple columns**"
   ]
  },
  {
   "cell_type": "markdown",
   "id": "d742523d-f1f7-49e1-967b-be44c7909010",
   "metadata": {},
   "source": [
    "- whenever we see multiple means recall the list\n",
    "- keep the column in list\n",
    "- pass the list"
   ]
  },
  {
   "cell_type": "code",
   "execution_count": 10,
   "id": "fa6a771a-96e5-4da6-b60f-bd4a743fbd71",
   "metadata": {},
   "outputs": [
    {
     "data": {
      "text/html": [
       "<div>\n",
       "<style scoped>\n",
       "    .dataframe tbody tr th:only-of-type {\n",
       "        vertical-align: middle;\n",
       "    }\n",
       "\n",
       "    .dataframe tbody tr th {\n",
       "        vertical-align: top;\n",
       "    }\n",
       "\n",
       "    .dataframe thead th {\n",
       "        text-align: right;\n",
       "    }\n",
       "</style>\n",
       "<table border=\"1\" class=\"dataframe\">\n",
       "  <thead>\n",
       "    <tr style=\"text-align: right;\">\n",
       "      <th></th>\n",
       "      <th>continent</th>\n",
       "      <th>case_status</th>\n",
       "    </tr>\n",
       "  </thead>\n",
       "  <tbody>\n",
       "    <tr>\n",
       "      <th>0</th>\n",
       "      <td>Asia</td>\n",
       "      <td>Denied</td>\n",
       "    </tr>\n",
       "    <tr>\n",
       "      <th>1</th>\n",
       "      <td>Asia</td>\n",
       "      <td>Certified</td>\n",
       "    </tr>\n",
       "    <tr>\n",
       "      <th>2</th>\n",
       "      <td>Asia</td>\n",
       "      <td>Denied</td>\n",
       "    </tr>\n",
       "    <tr>\n",
       "      <th>3</th>\n",
       "      <td>Asia</td>\n",
       "      <td>Denied</td>\n",
       "    </tr>\n",
       "    <tr>\n",
       "      <th>4</th>\n",
       "      <td>Africa</td>\n",
       "      <td>Certified</td>\n",
       "    </tr>\n",
       "    <tr>\n",
       "      <th>...</th>\n",
       "      <td>...</td>\n",
       "      <td>...</td>\n",
       "    </tr>\n",
       "    <tr>\n",
       "      <th>25475</th>\n",
       "      <td>Asia</td>\n",
       "      <td>Certified</td>\n",
       "    </tr>\n",
       "    <tr>\n",
       "      <th>25476</th>\n",
       "      <td>Asia</td>\n",
       "      <td>Certified</td>\n",
       "    </tr>\n",
       "    <tr>\n",
       "      <th>25477</th>\n",
       "      <td>Asia</td>\n",
       "      <td>Certified</td>\n",
       "    </tr>\n",
       "    <tr>\n",
       "      <th>25478</th>\n",
       "      <td>Asia</td>\n",
       "      <td>Certified</td>\n",
       "    </tr>\n",
       "    <tr>\n",
       "      <th>25479</th>\n",
       "      <td>Asia</td>\n",
       "      <td>Certified</td>\n",
       "    </tr>\n",
       "  </tbody>\n",
       "</table>\n",
       "<p>25480 rows × 2 columns</p>\n",
       "</div>"
      ],
      "text/plain": [
       "      continent case_status\n",
       "0          Asia      Denied\n",
       "1          Asia   Certified\n",
       "2          Asia      Denied\n",
       "3          Asia      Denied\n",
       "4        Africa   Certified\n",
       "...         ...         ...\n",
       "25475      Asia   Certified\n",
       "25476      Asia   Certified\n",
       "25477      Asia   Certified\n",
       "25478      Asia   Certified\n",
       "25479      Asia   Certified\n",
       "\n",
       "[25480 rows x 2 columns]"
      ]
     },
     "execution_count": 10,
     "metadata": {},
     "output_type": "execute_result"
    }
   ],
   "source": [
    "cols=['continent','case_status']\n",
    "visa_df[cols]"
   ]
  },
  {
   "cell_type": "markdown",
   "id": "774b2374-fed3-490b-9d46-1c057e4f801c",
   "metadata": {},
   "source": [
    "$task-1$\n",
    "\n",
    "**we want to find the the number of application continent wise**\n",
    "\n",
    "- there is as asia continent is there\n",
    "- how many applicants are from Asia out of 25480"
   ]
  },
  {
   "cell_type": "markdown",
   "id": "a198775a-1723-4793-a629-f5b8a832f570",
   "metadata": {},
   "source": [
    "**unique**\n",
    "\n",
    "- unique will provide how many unique items are there in a particular column"
   ]
  },
  {
   "cell_type": "code",
   "execution_count": 11,
   "id": "47579e0b-23c1-4cac-9406-2c572b0e3322",
   "metadata": {},
   "outputs": [
    {
     "data": {
      "text/plain": [
       "array(['Asia', 'Africa', 'North America', 'Europe', 'South America',\n",
       "       'Oceania'], dtype=object)"
      ]
     },
     "execution_count": 11,
     "metadata": {},
     "output_type": "execute_result"
    }
   ],
   "source": [
    "visa_df['continent'].unique()"
   ]
  },
  {
   "cell_type": "code",
   "execution_count": 12,
   "id": "5c2b76d8-8173-4ebd-8a4c-213fb9399732",
   "metadata": {},
   "outputs": [
    {
     "data": {
      "text/plain": [
       "6"
      ]
     },
     "execution_count": 12,
     "metadata": {},
     "output_type": "execute_result"
    }
   ],
   "source": [
    "len(visa_df['continent'].unique())"
   ]
  },
  {
   "cell_type": "code",
   "execution_count": null,
   "id": "441b63de-3fef-4dc4-be0c-fa083b5b3962",
   "metadata": {},
   "outputs": [],
   "source": []
  },
  {
   "cell_type": "markdown",
   "id": "60851281-4c2b-4d27-af3a-1dbb2bc96f0e",
   "metadata": {},
   "source": [
    "**nunique**\n",
    "\n",
    "- gives count of unique items"
   ]
  },
  {
   "cell_type": "code",
   "execution_count": 13,
   "id": "90622949-bda8-4e22-b77d-a121aac61a4e",
   "metadata": {},
   "outputs": [
    {
     "data": {
      "text/plain": [
       "6"
      ]
     },
     "execution_count": 13,
     "metadata": {},
     "output_type": "execute_result"
    }
   ],
   "source": [
    "visa_df['continent'].nunique()"
   ]
  },
  {
   "cell_type": "code",
   "execution_count": 15,
   "id": "12d9e023-293e-467f-9766-0868343b1340",
   "metadata": {},
   "outputs": [
    {
     "data": {
      "text/plain": [
       "6"
      ]
     },
     "execution_count": 15,
     "metadata": {},
     "output_type": "execute_result"
    }
   ],
   "source": [
    "# what is didderence between len(unique) and nunique\n",
    "len(visa_df['continent'].unique())\n",
    "visa_df['continent'].nunique()\n",
    "# max()\n",
    "# len()\n",
    "# min()\n",
    "# sum()"
   ]
  },
  {
   "cell_type": "code",
   "execution_count": null,
   "id": "a2a78715-23a5-4a2c-b70f-2b3ff6bd9ee7",
   "metadata": {},
   "outputs": [],
   "source": [
    "con=visa_df['continent']=='Asia'\n",
    "con"
   ]
  },
  {
   "cell_type": "code",
   "execution_count": null,
   "id": "db6573ba-17b3-4b95-85a6-9a5bda68e0be",
   "metadata": {},
   "outputs": [],
   "source": [
    "# step-1: read the data with specific column\n",
    "# step-2: apply the condition\n",
    "#          when we apply the condition python will give True and false\n",
    "# step-3: in order to retrive tyhe True data\n",
    "#          dataframe_name[con]\n",
    "visa_df['continent']\n",
    "con=visa_df['continent']=='Asia'\n",
    "len(visa_df[con])"
   ]
  },
  {
   "cell_type": "code",
   "execution_count": null,
   "id": "e3cedfba-ba80-4bbb-8ab9-1b528ce93ddd",
   "metadata": {},
   "outputs": [],
   "source": [
    "con=visa_df['continent']=='Asia'\n",
    "# dataframename[condition]\n",
    "len(visa_df[con])\n",
    "len(visa_df['continent']=='Asia')"
   ]
  },
  {
   "cell_type": "code",
   "execution_count": null,
   "id": "a0af3370-ebcd-4c46-a052-b0c0b67b153a",
   "metadata": {},
   "outputs": [],
   "source": [
    "con=visa_df['continent']=='Asia'\n",
    "len(visa_df[con])\n",
    "con=visa_df['continent']=='Africa'\n",
    "len(visa_df[con])\n",
    "con=visa_df['continent']=='North America'\n",
    "len(visa_df[con])\n",
    "con=visa_df['continent']=='Europe'\n",
    "len(visa_df[con])\n",
    "con=visa_df['continent']=='South America'\n",
    "len(visa_df[con])\n",
    "con=visa_df['continent']=='Oceania'\n",
    "len(visa_df[con])\n",
    "con=visa_df['continent']==i\n",
    "len(visa_df[con])"
   ]
  },
  {
   "cell_type": "code",
   "execution_count": null,
   "id": "06c7d285-54ee-4c98-a719-00e1b163f91b",
   "metadata": {},
   "outputs": [],
   "source": []
  },
  {
   "cell_type": "code",
   "execution_count": null,
   "id": "81976a33-890f-441c-8cf5-bed9dd0d79fd",
   "metadata": {},
   "outputs": [],
   "source": [
    "con=visa_df['continent']=='Asia'\n",
    "len(visa_df[con])\n",
    "\n",
    "con=visa_df['continent']=='Africa'\n",
    "len(visa_df[con])\n",
    "\n",
    "con=visa_df['continent']=='North America'\n",
    "len(visa_df[con])\n",
    "\n",
    "con=visa_df['continent']=='Europe'\n",
    "len(visa_df[con])\n",
    "\n",
    "con=visa_df['continent']=='South America'\n",
    "len(visa_df[con])\n",
    "\n",
    "con=visa_df['continent']=='Oceania'\n",
    "len(visa_df[con])\n",
    "\n",
    "con=visa_df['continent']==i\n",
    "len(visa_df[con])"
   ]
  },
  {
   "cell_type": "code",
   "execution_count": null,
   "id": "0ee0f64b-0bc9-48f3-80c5-c83a46d27431",
   "metadata": {},
   "outputs": [],
   "source": [
    "for i in visa_df['continent'].unique():\n",
    "    print(i)"
   ]
  },
  {
   "cell_type": "code",
   "execution_count": null,
   "id": "b63d5289-462a-4228-a70f-e3480a1c8971",
   "metadata": {},
   "outputs": [],
   "source": [
    "for i in visa_df['continent'].unique():\n",
    "    con=visa_df['continent']==i\n",
    "    count=len(visa_df[con])\n",
    "    print(f\"the number of application from {i} is: {count}\")"
   ]
  },
  {
   "cell_type": "markdown",
   "id": "017cf7bc-1706-4efc-9f1e-6f596f00b5ef",
   "metadata": {},
   "source": [
    "$task-2$\n",
    "\n",
    "- now instead of print count , take empty list\n",
    "\n",
    "- Save the values in a empty list\n",
    "\n",
    "- we already has unique continent list\n",
    "\n",
    "- we also having count list\n",
    "\n",
    "- Create dataframe"
   ]
  },
  {
   "cell_type": "code",
   "execution_count": null,
   "id": "bc6a972c-5803-40a3-937e-1c28d42c1c5c",
   "metadata": {},
   "outputs": [],
   "source": [
    "continents=visa_df['continent'].unique()\n",
    "\n",
    "count=[]\n",
    "for i in visa_df['continent'].unique():\n",
    "    con=visa_df['continent']==i\n",
    "    count.append(len(visa_df[con]))\n",
    "\n",
    "cols=['Continents','Nummber of Applicants']\n",
    "pd.DataFrame(zip(continents,count),\n",
    "            columns=cols)"
   ]
  },
  {
   "cell_type": "code",
   "execution_count": null,
   "id": "0655ddbd-cd2f-446f-9322-280e80fae9ee",
   "metadata": {},
   "outputs": [],
   "source": [
    "continents=visa_df['continent'].unique()\n",
    "\n",
    "count=[]\n",
    "for i in visa_df['continent'].unique():\n",
    "    con=visa_df['continent']==i\n",
    "    count.append(len(visa_df[con]))\n",
    "\n",
    "cols=['Continents','Nummber of Applicants']\n",
    "continents_df=pd.DataFrame(zip(continents,count),\n",
    "                columns=cols)\n",
    "continents_df.to_csv('continents_df.csv',index=False)"
   ]
  },
  {
   "cell_type": "markdown",
   "id": "bf343bc4-9182-4c60-b0a4-74056ab0161c",
   "metadata": {},
   "source": [
    "**value count**"
   ]
  },
  {
   "cell_type": "code",
   "execution_count": null,
   "id": "e4568ca1-c87a-483d-8fa1-bb9db9bbd8c7",
   "metadata": {},
   "outputs": [],
   "source": [
    "visa_df['continent'].value_counts()"
   ]
  },
  {
   "cell_type": "markdown",
   "id": "80b8a161-d1b4-46fa-ac67-64ed3eab75d5",
   "metadata": {},
   "source": [
    "- we created a dataframe using dataframe of unique of a columns and its count\n",
    "\n",
    "- we created by our own way,by using for loop\n",
    "\n",
    "- the same operation we can get using **value_count**"
   ]
  },
  {
   "cell_type": "code",
   "execution_count": null,
   "id": "77c8b0ef-b594-4745-b678-0fe85174142b",
   "metadata": {},
   "outputs": [],
   "source": [
    "cdf=visa_df['continent'].value_counts()\n",
    "cdf"
   ]
  },
  {
   "cell_type": "code",
   "execution_count": null,
   "id": "0434f76c-82bd-4f18-ac6a-0a9306553bed",
   "metadata": {},
   "outputs": [],
   "source": [
    "dir(cdf)"
   ]
  },
  {
   "cell_type": "code",
   "execution_count": null,
   "id": "399d5877-5889-4c98-b715-92856a7227bd",
   "metadata": {},
   "outputs": [],
   "source": [
    "type(cdf)"
   ]
  },
  {
   "cell_type": "code",
   "execution_count": null,
   "id": "c1a04b7d-411f-4691-a7b9-d24fda5f34d5",
   "metadata": {},
   "outputs": [],
   "source": [
    "keys=cdf.keys()"
   ]
  },
  {
   "cell_type": "code",
   "execution_count": null,
   "id": "9b5f44f8-fd07-4e17-8796-dc302b1a6745",
   "metadata": {},
   "outputs": [],
   "source": [
    "values=cdf.values"
   ]
  },
  {
   "cell_type": "code",
   "execution_count": null,
   "id": "11b11cbd-6910-4b21-96b3-5e11fff569f9",
   "metadata": {},
   "outputs": [],
   "source": [
    "pd.DataFrame(zip(keys,values))"
   ]
  },
  {
   "cell_type": "code",
   "execution_count": null,
   "id": "3fac0cda-eb53-46ba-b03a-00bff0e90060",
   "metadata": {},
   "outputs": [],
   "source": [
    "cdf=visa_df['continent'].value_counts()\n",
    "keys=cdf.keys()\n",
    "values=cdf.values\n",
    "cols=['Lables','Count']\n",
    "df=pd.DataFrame(zip(keys,values),\n",
    "               columns=cols)\n",
    "df.to_csv('Continent.csv',index=False)"
   ]
  },
  {
   "cell_type": "code",
   "execution_count": null,
   "id": "0a95402f-ecb5-4ae5-aff7-15b8dcf32c0c",
   "metadata": {},
   "outputs": [],
   "source": [
    "cat_columns[1:]"
   ]
  },
  {
   "cell_type": "code",
   "execution_count": null,
   "id": "e2c2f8cd-f723-4847-b6d2-fff3a2cddaa7",
   "metadata": {},
   "outputs": [],
   "source": [
    "cdf=visa_df['education_of_employee'].value_counts()\n",
    "keys=cdf.keys()\n",
    "values=cdf.values\n",
    "cols=['Lables','Count']\n",
    "df=pd.DataFrame(zip(keys,values),\n",
    "               columns=cols)\n",
    "df.to_csv('education_of_employee.csv',index=False)"
   ]
  },
  {
   "cell_type": "markdown",
   "id": "15225b70-9981-4ebc-b1e9-f2d20f0a5561",
   "metadata": {},
   "source": [
    "- we need to change column name\n",
    "- we need to change save the file name as column name"
   ]
  },
  {
   "cell_type": "code",
   "execution_count": null,
   "id": "3e290f0f-87ad-438a-997c-1022969bc399",
   "metadata": {},
   "outputs": [],
   "source": [
    "for i in cat_columns[1:]:\n",
    "    cdf=visa_df[i].value_counts()\n",
    "    keys=cdf.keys()\n",
    "    values=cdf.values\n",
    "    cols=['Lables','Count']\n",
    "    df=pd.DataFrame(zip(keys,values),\n",
    "                   columns=cols)\n",
    "    path=r\"C:\\Users\\md mumtaz\\Documents\\Naresh it\\EDA\\visa_datafiles\"\n",
    "    df.to_csv(f'{path}\\\\{i}t.csv',index=False)"
   ]
  },
  {
   "cell_type": "code",
   "execution_count": null,
   "id": "ed317175-1255-40e0-b826-325dc7ac6560",
   "metadata": {},
   "outputs": [],
   "source": [
    "def valuecounts(i):\n",
    "    cdf=visa_df[i].value_counts()\n",
    "    keys=cdf.keys()\n",
    "    values=cdf.values\n",
    "    cols=['Lables','Count']\n",
    "    df=pd.DataFrame(zip(keys,values),\n",
    "                   columns=cols)\n",
    "    path=r\"C:\\Users\\md mumtaz\\Documents\\Naresh it\\Visadataset.csv\"\n",
    "    df.to_csv('Continent.csv',index=False)"
   ]
  },
  {
   "cell_type": "code",
   "execution_count": null,
   "id": "56b78729-577f-45c4-916c-1ccc70ba6ed3",
   "metadata": {},
   "outputs": [],
   "source": [
    "# visa_df[cat_columns[1:]].applymap(valuecounts)"
   ]
  },
  {
   "cell_type": "markdown",
   "id": "43d8c402-fbd8-4347-a2b1-6dd549294b4a",
   "metadata": {},
   "source": [
    "**Normalize**"
   ]
  },
  {
   "cell_type": "markdown",
   "id": "3cf623ba-7d38-41f4-b3e2-5945eccb0072",
   "metadata": {},
   "source": [
    "- Relative frequency table\n",
    "- will give percentage of lables in the coulumn"
   ]
  },
  {
   "cell_type": "code",
   "execution_count": null,
   "id": "b454af09-c6d2-483d-9983-dcbe14e93d56",
   "metadata": {},
   "outputs": [],
   "source": [
    "cdf=visa_df['continent'].value_counts(normalize=True)\n",
    "round(cdf*100,2)"
   ]
  },
  {
   "cell_type": "markdown",
   "id": "c4e56964-6947-4bdc-81d3-1a251fda3042",
   "metadata": {},
   "source": [
    "**Bar chart**\n",
    "\n",
    "- Bar chart is a Grafical reprersentation of frequency table\n",
    "- Bar graph is plot between count and class\n",
    "- in order to plot bar chart we required two columns\n",
    "  - Categorical column\n",
    "  - Numerical column\n",
    "- we alredy creatyed a frequency table for **continent_df**\n",
    "  - here we have cols=['Continent','Number of apllications']\n",
    "  - Categorical column is : **Continent**\n",
    "  - Numerical column is: **Number of applicants**\n",
    "- package: **matplotlib**\n",
    "- we required a dataframe"
   ]
  },
  {
   "cell_type": "code",
   "execution_count": null,
   "id": "a6f7a3ab-de79-42ea-8d76-cce4037b77f3",
   "metadata": {},
   "outputs": [],
   "source": [
    "cdf=visa_df['continent'].value_counts(normalize=True)\n",
    "cdf"
   ]
  },
  {
   "cell_type": "code",
   "execution_count": null,
   "id": "1236bd8f-5de7-46d6-8848-202c6dd9fff2",
   "metadata": {},
   "outputs": [],
   "source": [
    "import matplotlib.pyplot as plt\n",
    "plt.bar('Continents', # cat column x-axis\n",
    "        'Nummber of Applicants',  # Num column:Height y-axis\n",
    "        data=continents_df)\n",
    "\n",
    "plt.title(\"Bar chart\")\n",
    "plt.xlabel('Continents')\n",
    "plt.ylabel(\"Nummber of Applicants\")\n",
    "plt.savefig('Continents_bar_chart.jpg')"
   ]
  },
  {
   "cell_type": "code",
   "execution_count": null,
   "id": "a3fd2e91-9ea7-4ac7-8c60-7779c9a5210b",
   "metadata": {},
   "outputs": [],
   "source": []
  },
  {
   "cell_type": "code",
   "execution_count": null,
   "id": "bf36ff2b-e70b-4756-8c46-cf4bfaff2b07",
   "metadata": {},
   "outputs": [],
   "source": [
    "continents_df"
   ]
  },
  {
   "cell_type": "code",
   "execution_count": null,
   "id": "33b62e42-d8c6-435c-a2e1-e6108ed8c19b",
   "metadata": {},
   "outputs": [],
   "source": [
    "visa_df['continent']  # raw data\n",
    "# continent_df\n",
    "# for loop\n",
    "# value counts\n",
    "# plot the bar chart:matplotlib"
   ]
  },
  {
   "cell_type": "code",
   "execution_count": null,
   "id": "f8570d42-fc5b-4494-8661-b81673bc9d6d",
   "metadata": {},
   "outputs": [],
   "source": []
  },
  {
   "cell_type": "code",
   "execution_count": null,
   "id": "a31cdb9c-9f4a-4269-b868-36443a03d57d",
   "metadata": {},
   "outputs": [],
   "source": [
    "continents_df"
   ]
  },
  {
   "cell_type": "code",
   "execution_count": null,
   "id": "17f4c8d3-cae0-4624-b11e-01636af19505",
   "metadata": {},
   "outputs": [],
   "source": [
    "############################################task-1###########################################\n",
    "- take a fresh notbook\n",
    "- read the visa dataset\n",
    "- create a case_status frequency table\n",
    "- save that in your laptop\n",
    "\n",
    "take another noteboook \n",
    "- perform the bar pot on case_status\n",
    "\n",
    "#####################################task-2###################################################\n",
    "- take a fresh not book\n",
    "- read the dataset\n",
    "- create a case_status frequency table\n",
    "- perform the bar pot on case_status datframe"
   ]
  },
  {
   "cell_type": "code",
   "execution_count": null,
   "id": "4889c8b6-ca64-4315-b210-4c70637191f0",
   "metadata": {},
   "outputs": [],
   "source": [
    "round(2.564,2)\n"
   ]
  },
  {
   "cell_type": "code",
   "execution_count": null,
   "id": "076699aa-e486-4385-ac8f-f38f9aa2761b",
   "metadata": {},
   "outputs": [],
   "source": []
  }
 ],
 "metadata": {
  "kernelspec": {
   "display_name": "Python 3 (ipykernel)",
   "language": "python",
   "name": "python3"
  },
  "language_info": {
   "codemirror_mode": {
    "name": "ipython",
    "version": 3
   },
   "file_extension": ".py",
   "mimetype": "text/x-python",
   "name": "python",
   "nbconvert_exporter": "python",
   "pygments_lexer": "ipython3",
   "version": "3.11.7"
  }
 },
 "nbformat": 4,
 "nbformat_minor": 5
}
